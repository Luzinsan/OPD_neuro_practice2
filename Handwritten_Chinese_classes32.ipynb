{
  "nbformat": 4,
  "nbformat_minor": 0,
  "metadata": {
    "accelerator": "GPU",
    "colab": {
      "name": "Handwritten Chinese v3.ipynb",
      "provenance": [],
      "collapsed_sections": [],
      "include_colab_link": true
    },
    "kernelspec": {
      "display_name": "Python 3",
      "name": "python3"
    }
  },
  "cells": [
    {
      "cell_type": "markdown",
      "metadata": {
        "id": "view-in-github",
        "colab_type": "text"
      },
      "source": [
        "<a href=\"https://colab.research.google.com/github/Luzinsan/OPD_neuro_practice2/blob/main/Handwritten_Chinese_classes32.ipynb\" target=\"_parent\"><img src=\"https://colab.research.google.com/assets/colab-badge.svg\" alt=\"Open In Colab\"/></a>"
      ]
    },
    {
      "cell_type": "code",
      "metadata": {
        "id": "-HlCG5i4kDnS",
        "colab": {
          "base_uri": "https://localhost:8080/"
        },
        "outputId": "82719eff-c7b1-427e-d1ad-dda5902554d2"
      },
      "source": [
        "import numpy as np\n",
        "import time\n",
        "import PIL.Image as Image\n",
        "import matplotlib.pylab as plt\n",
        "import tensorflow as tf\n",
        "import os\n",
        "import zipfile\n",
        "import shutil\n",
        "\n",
        "!git clone https://github.com/AI-FREE-Team/Traditional-Chinese-Handwriting-Dataset.git\n",
        "OutputFolder = '/content/Handwritten_Data'\n",
        "!rm -rf '/content/Handwritten_Data'"
      ],
      "execution_count": 1,
      "outputs": [
        {
          "output_type": "stream",
          "name": "stdout",
          "text": [
            "fatal: destination path 'Traditional-Chinese-Handwriting-Dataset' already exists and is not an empty directory.\n"
          ]
        }
      ]
    },
    {
      "cell_type": "code",
      "metadata": {
        "id": "tIMzxCtACUxL"
      },
      "source": [
        "SIZE = 32 # рассматриваем 32 класса"
      ],
      "execution_count": 2,
      "outputs": []
    },
    {
      "cell_type": "code",
      "metadata": {
        "id": "NEsfKRwc_bg0"
      },
      "source": [
        "CompressedFiles = []\n",
        "\n",
        "os.chdir('/content/Traditional-Chinese-Handwriting-Dataset/data')\n",
        "\n",
        "for item in os.listdir():  \n",
        "  if item.endswith('.zip'): # Check for \".zip\" extension.\n",
        "    file_path = os.path.abspath(item) # Get full path of the compressed file. \n",
        "    CompressedFiles.append(file_path)\n",
        "\n",
        "for file in CompressedFiles:     \n",
        "  # Construct a ZipFile object with the filename, and then extract it.\n",
        "  zip_ref = zipfile.ZipFile(file).extractall(OutputFolder) \n",
        "  \n",
        "  source_path = OutputFolder + '/cleaned_data(50_50)'\n",
        "  img_list = os.listdir(source_path)\n",
        "\n",
        "  for img in img_list:\n",
        "      shutil.move(source_path + '/' + img, OutputFolder) # Move a file to another location. \n",
        "  \n",
        "  shutil.rmtree(OutputFolder + '/cleaned_data(50_50)') \n",
        "  #print(f'Decompress successfully {file} ......')\n",
        "  #print( 'Moving images according to traditional Chinese characters......' )\n",
        "\n",
        "ImageList = os.listdir(OutputFolder)\n",
        "ImageList = [img for img in ImageList if len(img)>1]\n",
        "WordList = list(set([w.split('_')[0] for w in ImageList]))[:SIZE]\n",
        "\n",
        "for w in WordList:\n",
        "  try:\n",
        "    os.chdir(OutputFolder) # Change the current working directory to OutputPath.\n",
        "    os.mkdir(w) # Create the new word folder in OutputPath.\n",
        "    MoveList = [img for img in ImageList if w in img]\n",
        "                \n",
        "  except: \n",
        "    os.chdir(OutputFolder)\n",
        "    MoveList = [img for img in ImageList if w in img ]\n",
        "  \n",
        "  finally:            \n",
        "    for img in MoveList:\n",
        "      old_path = OutputFolder + '/' + img\n",
        "      new_path = OutputFolder + '/' + w + '/' + img\n",
        "      shutil.move( old_path, new_path )\n",
        "\n",
        "#print( 'Data Deployment completed.' )"
      ],
      "execution_count": 3,
      "outputs": []
    },
    {
      "cell_type": "code",
      "metadata": {
        "id": "BtJidZSSed2C"
      },
      "source": [
        "a=0\n",
        "b=0\n",
        "\n",
        "for item in os.listdir(OutputFolder):\n",
        "  if (os.path.isdir(item)):  \n",
        "    a += 1\n",
        "    for i in os.listdir(OutputFolder + '/' + item):\n",
        "      b +=1\n",
        "\n",
        "#print ('Всего: ' + str(a) + ' слов (папка) / Всего: ' + str(b) + ' образцов')\n",
        "#print ('В среднем каждое слово содержит: ' + str (b / a) + ' образцов')"
      ],
      "execution_count": 4,
      "outputs": []
    },
    {
      "cell_type": "code",
      "metadata": {
        "id": "8BZsXzH5dSZA",
        "colab": {
          "base_uri": "https://localhost:8080/"
        },
        "outputId": "95b2350d-aaa3-4884-b208-7800299993a2"
      },
      "source": [
        "image_generator = tf.keras.preprocessing.image.ImageDataGenerator(validation_split=0.1)\n",
        "train_dataset = image_generator.flow_from_directory(str(OutputFolder), class_mode='sparse', batch_size=5, target_size=(50, 50), subset='training')\n",
        "valid_dataset = image_generator.flow_from_directory(str(OutputFolder), class_mode='sparse', batch_size=5, target_size=(50, 50), subset='validation')"
      ],
      "execution_count": 5,
      "outputs": [
        {
          "output_type": "stream",
          "name": "stdout",
          "text": [
            "Found 1527 images belonging to 32 classes.\n",
            "Found 157 images belonging to 32 classes.\n"
          ]
        }
      ]
    },
    {
      "cell_type": "code",
      "metadata": {
        "id": "G5yTllMEdfrp"
      },
      "source": [
        "for image_b, label_b in train_dataset:\n",
        "  #print(\"Image batch shape: \", image_b.shape)\n",
        "  #print(\"Label batch shape: \", label_b.shape)\n",
        "  image_batch = image_b\n",
        "  label_batch = label_b\n",
        "  #print(label_batch)\n",
        "  break"
      ],
      "execution_count": 6,
      "outputs": []
    },
    {
      "cell_type": "code",
      "metadata": {
        "id": "WucSLXxZdpuc",
        "colab": {
          "base_uri": "https://localhost:8080/"
        },
        "outputId": "0a672416-ecbc-4108-8488-afd2f21e92b1"
      },
      "source": [
        "model = tf.keras.Sequential([\n",
        "  tf.keras.layers.Conv2D(filters=16,  kernel_size=3, activation='relu', padding= 'same' , input_shape=(50,50,3)),\n",
        "  tf.keras.layers.MaxPooling2D(pool_size=(2,2), strides=2),\n",
        "  tf.keras.layers.Conv2D(filters=32,  kernel_size=3, activation='relu', padding= 'same'),\n",
        "  tf.keras.layers.MaxPooling2D(pool_size=(2,2), strides=2),\n",
        "  tf.keras.layers.Conv2D(filters=64,  kernel_size=3, activation='relu', padding= 'same'),\n",
        "  tf.keras.layers.MaxPooling2D(pool_size=(2,2), strides=2),\n",
        "  tf.keras.layers.Conv2D(filters=128,  kernel_size=3, activation='relu', padding= 'same'),\n",
        "  tf.keras.layers.MaxPooling2D(pool_size=(2,2), strides=2),\n",
        "\n",
        "  tf.keras.layers.Flatten(),\n",
        "  tf.keras.layers.Dense(256, activation='relu'),\n",
        "  tf.keras.layers.Dropout(0.4),\n",
        "  tf.keras.layers.Dense(SIZE, activation='softmax')\n",
        "])\n",
        "\n",
        "model.summary()"
      ],
      "execution_count": 7,
      "outputs": [
        {
          "output_type": "stream",
          "name": "stdout",
          "text": [
            "Model: \"sequential\"\n",
            "_________________________________________________________________\n",
            " Layer (type)                Output Shape              Param #   \n",
            "=================================================================\n",
            " conv2d (Conv2D)             (None, 50, 50, 16)        448       \n",
            "                                                                 \n",
            " max_pooling2d (MaxPooling2D  (None, 25, 25, 16)       0         \n",
            " )                                                               \n",
            "                                                                 \n",
            " conv2d_1 (Conv2D)           (None, 25, 25, 32)        4640      \n",
            "                                                                 \n",
            " max_pooling2d_1 (MaxPooling  (None, 12, 12, 32)       0         \n",
            " 2D)                                                             \n",
            "                                                                 \n",
            " conv2d_2 (Conv2D)           (None, 12, 12, 64)        18496     \n",
            "                                                                 \n",
            " max_pooling2d_2 (MaxPooling  (None, 6, 6, 64)         0         \n",
            " 2D)                                                             \n",
            "                                                                 \n",
            " conv2d_3 (Conv2D)           (None, 6, 6, 128)         73856     \n",
            "                                                                 \n",
            " max_pooling2d_3 (MaxPooling  (None, 3, 3, 128)        0         \n",
            " 2D)                                                             \n",
            "                                                                 \n",
            " flatten (Flatten)           (None, 1152)              0         \n",
            "                                                                 \n",
            " dense (Dense)               (None, 256)               295168    \n",
            "                                                                 \n",
            " dropout (Dropout)           (None, 256)               0         \n",
            "                                                                 \n",
            " dense_1 (Dense)             (None, 32)                8224      \n",
            "                                                                 \n",
            "=================================================================\n",
            "Total params: 400,832\n",
            "Trainable params: 400,832\n",
            "Non-trainable params: 0\n",
            "_________________________________________________________________\n"
          ]
        }
      ]
    },
    {
      "cell_type": "code",
      "metadata": {
        "id": "pWAuDixXdzYa",
        "colab": {
          "base_uri": "https://localhost:8080/"
        },
        "outputId": "18b3346c-e335-48e6-e879-187387e2342b"
      },
      "source": [
        "model.compile(\n",
        "  optimizer=tf.keras.optimizers.Adadelta(learning_rate = 0.9),\n",
        "  loss=tf.keras.losses.SparseCategoricalCrossentropy(),\n",
        "  metrics=['accuracy']\n",
        ")\n",
        "EPOCHS = 10\n",
        "history = model.fit(train_dataset,\n",
        "                    validation_data=valid_dataset,\n",
        "                    epochs=EPOCHS)"
      ],
      "execution_count": 8,
      "outputs": [
        {
          "output_type": "stream",
          "name": "stdout",
          "text": [
            "Epoch 1/10\n",
            "306/306 [==============================] - 10s 30ms/step - loss: 4.7684 - accuracy: 0.0321 - val_loss: 3.5643 - val_accuracy: 0.0446\n",
            "Epoch 2/10\n",
            "306/306 [==============================] - 8s 26ms/step - loss: 3.4282 - accuracy: 0.0616 - val_loss: 3.2468 - val_accuracy: 0.1210\n",
            "Epoch 3/10\n",
            "306/306 [==============================] - 8s 26ms/step - loss: 3.1499 - accuracy: 0.1074 - val_loss: 2.8338 - val_accuracy: 0.1338\n",
            "Epoch 4/10\n",
            "306/306 [==============================] - 8s 26ms/step - loss: 2.6207 - accuracy: 0.2364 - val_loss: 2.0614 - val_accuracy: 0.3758\n",
            "Epoch 5/10\n",
            "306/306 [==============================] - 8s 27ms/step - loss: 1.9208 - accuracy: 0.4139 - val_loss: 1.2902 - val_accuracy: 0.6178\n",
            "Epoch 6/10\n",
            "306/306 [==============================] - 8s 26ms/step - loss: 1.2295 - accuracy: 0.6189 - val_loss: 0.9253 - val_accuracy: 0.6815\n",
            "Epoch 7/10\n",
            "306/306 [==============================] - 8s 26ms/step - loss: 0.8333 - accuracy: 0.7413 - val_loss: 0.6753 - val_accuracy: 0.7707\n",
            "Epoch 8/10\n",
            "306/306 [==============================] - 8s 26ms/step - loss: 0.5908 - accuracy: 0.8219 - val_loss: 0.3841 - val_accuracy: 0.8790\n",
            "Epoch 9/10\n",
            "306/306 [==============================] - 8s 26ms/step - loss: 0.4222 - accuracy: 0.8749 - val_loss: 0.5159 - val_accuracy: 0.8981\n",
            "Epoch 10/10\n",
            "306/306 [==============================] - 8s 26ms/step - loss: 0.2832 - accuracy: 0.9103 - val_loss: 0.3961 - val_accuracy: 0.8917\n"
          ]
        }
      ]
    },
    {
      "cell_type": "code",
      "metadata": {
        "id": "Iyt3xUVf2n_N",
        "colab": {
          "base_uri": "https://localhost:8080/"
        },
        "outputId": "cbc417e2-126c-4514-e3e0-d019caae927a"
      },
      "source": [
        "model.compile(\n",
        "  optimizer=tf.keras.optimizers.Adadelta(learning_rate = 0.001),\n",
        "  loss=tf.keras.losses.SparseCategoricalCrossentropy(),\n",
        "  metrics=['accuracy']\n",
        ")\n",
        "EPOCHS = 50\n",
        "history = model.fit(train_dataset,\n",
        "                    validation_data=valid_dataset,\n",
        "                    epochs=EPOCHS)"
      ],
      "execution_count": 10,
      "outputs": [
        {
          "output_type": "stream",
          "name": "stdout",
          "text": [
            "Epoch 1/50\n",
            "306/306 [==============================] - 9s 28ms/step - loss: 0.2251 - accuracy: 0.9234 - val_loss: 0.3691 - val_accuracy: 0.8981\n",
            "Epoch 2/50\n",
            "306/306 [==============================] - 8s 27ms/step - loss: 0.2354 - accuracy: 0.9253 - val_loss: 0.3623 - val_accuracy: 0.8981\n",
            "Epoch 3/50\n",
            "306/306 [==============================] - 8s 27ms/step - loss: 0.2035 - accuracy: 0.9273 - val_loss: 0.3563 - val_accuracy: 0.8981\n",
            "Epoch 4/50\n",
            "306/306 [==============================] - 8s 28ms/step - loss: 0.2075 - accuracy: 0.9345 - val_loss: 0.3510 - val_accuracy: 0.8981\n",
            "Epoch 5/50\n",
            "306/306 [==============================] - 8s 27ms/step - loss: 0.2042 - accuracy: 0.9319 - val_loss: 0.3458 - val_accuracy: 0.8981\n",
            "Epoch 6/50\n",
            "306/306 [==============================] - 8s 27ms/step - loss: 0.2107 - accuracy: 0.9267 - val_loss: 0.3405 - val_accuracy: 0.8981\n",
            "Epoch 7/50\n",
            "306/306 [==============================] - 8s 28ms/step - loss: 0.1967 - accuracy: 0.9345 - val_loss: 0.3360 - val_accuracy: 0.8981\n",
            "Epoch 8/50\n",
            "306/306 [==============================] - 8s 27ms/step - loss: 0.2075 - accuracy: 0.9299 - val_loss: 0.3314 - val_accuracy: 0.9108\n",
            "Epoch 9/50\n",
            "306/306 [==============================] - 8s 28ms/step - loss: 0.1768 - accuracy: 0.9365 - val_loss: 0.3269 - val_accuracy: 0.9108\n",
            "Epoch 10/50\n",
            "306/306 [==============================] - 8s 27ms/step - loss: 0.1633 - accuracy: 0.9430 - val_loss: 0.3232 - val_accuracy: 0.9172\n",
            "Epoch 11/50\n",
            "306/306 [==============================] - 8s 28ms/step - loss: 0.1806 - accuracy: 0.9411 - val_loss: 0.3199 - val_accuracy: 0.9172\n",
            "Epoch 12/50\n",
            "306/306 [==============================] - 9s 28ms/step - loss: 0.1743 - accuracy: 0.9404 - val_loss: 0.3166 - val_accuracy: 0.9172\n",
            "Epoch 13/50\n",
            "306/306 [==============================] - 9s 28ms/step - loss: 0.1843 - accuracy: 0.9424 - val_loss: 0.3133 - val_accuracy: 0.9172\n",
            "Epoch 14/50\n",
            "306/306 [==============================] - 8s 28ms/step - loss: 0.1789 - accuracy: 0.9437 - val_loss: 0.3107 - val_accuracy: 0.9172\n",
            "Epoch 15/50\n",
            "306/306 [==============================] - 8s 28ms/step - loss: 0.1885 - accuracy: 0.9391 - val_loss: 0.3080 - val_accuracy: 0.9172\n",
            "Epoch 16/50\n",
            "306/306 [==============================] - 9s 28ms/step - loss: 0.1508 - accuracy: 0.9443 - val_loss: 0.3052 - val_accuracy: 0.9172\n",
            "Epoch 17/50\n",
            "306/306 [==============================] - 9s 28ms/step - loss: 0.1711 - accuracy: 0.9450 - val_loss: 0.3028 - val_accuracy: 0.9236\n",
            "Epoch 18/50\n",
            "306/306 [==============================] - 9s 28ms/step - loss: 0.1606 - accuracy: 0.9398 - val_loss: 0.3005 - val_accuracy: 0.9236\n",
            "Epoch 19/50\n",
            "306/306 [==============================] - 9s 28ms/step - loss: 0.1591 - accuracy: 0.9437 - val_loss: 0.2988 - val_accuracy: 0.9236\n",
            "Epoch 20/50\n",
            "306/306 [==============================] - 9s 29ms/step - loss: 0.1566 - accuracy: 0.9476 - val_loss: 0.2967 - val_accuracy: 0.9236\n",
            "Epoch 21/50\n",
            "306/306 [==============================] - 9s 29ms/step - loss: 0.1437 - accuracy: 0.9509 - val_loss: 0.2946 - val_accuracy: 0.9236\n",
            "Epoch 22/50\n",
            "306/306 [==============================] - 9s 28ms/step - loss: 0.1626 - accuracy: 0.9443 - val_loss: 0.2927 - val_accuracy: 0.9236\n",
            "Epoch 23/50\n",
            "306/306 [==============================] - 9s 28ms/step - loss: 0.1671 - accuracy: 0.9391 - val_loss: 0.2902 - val_accuracy: 0.9236\n",
            "Epoch 24/50\n",
            "306/306 [==============================] - 9s 28ms/step - loss: 0.1445 - accuracy: 0.9470 - val_loss: 0.2885 - val_accuracy: 0.9236\n",
            "Epoch 25/50\n",
            "306/306 [==============================] - 8s 28ms/step - loss: 0.1482 - accuracy: 0.9476 - val_loss: 0.2865 - val_accuracy: 0.9236\n",
            "Epoch 26/50\n",
            "306/306 [==============================] - 9s 28ms/step - loss: 0.1490 - accuracy: 0.9483 - val_loss: 0.2851 - val_accuracy: 0.9236\n",
            "Epoch 27/50\n",
            "306/306 [==============================] - 9s 28ms/step - loss: 0.1512 - accuracy: 0.9456 - val_loss: 0.2835 - val_accuracy: 0.9236\n",
            "Epoch 28/50\n",
            "306/306 [==============================] - 9s 28ms/step - loss: 0.1524 - accuracy: 0.9509 - val_loss: 0.2819 - val_accuracy: 0.9236\n",
            "Epoch 29/50\n",
            "306/306 [==============================] - 8s 28ms/step - loss: 0.1437 - accuracy: 0.9528 - val_loss: 0.2803 - val_accuracy: 0.9236\n",
            "Epoch 30/50\n",
            "306/306 [==============================] - 8s 28ms/step - loss: 0.1402 - accuracy: 0.9535 - val_loss: 0.2792 - val_accuracy: 0.9236\n",
            "Epoch 31/50\n",
            "306/306 [==============================] - 9s 28ms/step - loss: 0.1285 - accuracy: 0.9574 - val_loss: 0.2782 - val_accuracy: 0.9236\n",
            "Epoch 32/50\n",
            "306/306 [==============================] - 9s 28ms/step - loss: 0.1401 - accuracy: 0.9515 - val_loss: 0.2773 - val_accuracy: 0.9299\n",
            "Epoch 33/50\n",
            "306/306 [==============================] - 9s 28ms/step - loss: 0.1402 - accuracy: 0.9555 - val_loss: 0.2762 - val_accuracy: 0.9299\n",
            "Epoch 34/50\n",
            "306/306 [==============================] - 9s 28ms/step - loss: 0.1417 - accuracy: 0.9528 - val_loss: 0.2757 - val_accuracy: 0.9299\n",
            "Epoch 35/50\n",
            "306/306 [==============================] - 8s 27ms/step - loss: 0.1095 - accuracy: 0.9633 - val_loss: 0.2743 - val_accuracy: 0.9299\n",
            "Epoch 36/50\n",
            "306/306 [==============================] - 8s 28ms/step - loss: 0.1330 - accuracy: 0.9555 - val_loss: 0.2728 - val_accuracy: 0.9299\n",
            "Epoch 37/50\n",
            "306/306 [==============================] - 8s 27ms/step - loss: 0.1439 - accuracy: 0.9581 - val_loss: 0.2719 - val_accuracy: 0.9236\n",
            "Epoch 38/50\n",
            "306/306 [==============================] - 9s 28ms/step - loss: 0.1434 - accuracy: 0.9522 - val_loss: 0.2707 - val_accuracy: 0.9236\n",
            "Epoch 39/50\n",
            "306/306 [==============================] - 8s 28ms/step - loss: 0.1384 - accuracy: 0.9555 - val_loss: 0.2701 - val_accuracy: 0.9236\n",
            "Epoch 40/50\n",
            "306/306 [==============================] - 8s 27ms/step - loss: 0.1211 - accuracy: 0.9548 - val_loss: 0.2696 - val_accuracy: 0.9236\n",
            "Epoch 41/50\n",
            "306/306 [==============================] - 8s 28ms/step - loss: 0.1251 - accuracy: 0.9581 - val_loss: 0.2687 - val_accuracy: 0.9236\n",
            "Epoch 42/50\n",
            "306/306 [==============================] - 9s 28ms/step - loss: 0.1213 - accuracy: 0.9627 - val_loss: 0.2677 - val_accuracy: 0.9236\n",
            "Epoch 43/50\n",
            "306/306 [==============================] - 9s 28ms/step - loss: 0.1233 - accuracy: 0.9594 - val_loss: 0.2672 - val_accuracy: 0.9236\n",
            "Epoch 44/50\n",
            "306/306 [==============================] - 9s 28ms/step - loss: 0.1242 - accuracy: 0.9581 - val_loss: 0.2665 - val_accuracy: 0.9236\n",
            "Epoch 45/50\n",
            "306/306 [==============================] - 9s 28ms/step - loss: 0.1242 - accuracy: 0.9614 - val_loss: 0.2660 - val_accuracy: 0.9236\n",
            "Epoch 46/50\n",
            "306/306 [==============================] - 9s 28ms/step - loss: 0.1137 - accuracy: 0.9614 - val_loss: 0.2652 - val_accuracy: 0.9236\n",
            "Epoch 47/50\n",
            "306/306 [==============================] - 9s 29ms/step - loss: 0.1258 - accuracy: 0.9614 - val_loss: 0.2646 - val_accuracy: 0.9236\n",
            "Epoch 48/50\n",
            "306/306 [==============================] - 9s 28ms/step - loss: 0.1341 - accuracy: 0.9509 - val_loss: 0.2637 - val_accuracy: 0.9236\n",
            "Epoch 49/50\n",
            "306/306 [==============================] - 9s 28ms/step - loss: 0.1187 - accuracy: 0.9561 - val_loss: 0.2630 - val_accuracy: 0.9236\n",
            "Epoch 50/50\n",
            "306/306 [==============================] - 9s 29ms/step - loss: 0.1108 - accuracy: 0.9620 - val_loss: 0.2620 - val_accuracy: 0.9236\n"
          ]
        }
      ]
    },
    {
      "cell_type": "code",
      "metadata": {
        "id": "yEVSZ40id6DC",
        "colab": {
          "base_uri": "https://localhost:8080/",
          "height": 621
        },
        "outputId": "2021f43f-0a90-46de-91b8-3280d6d1cd6c"
      },
      "source": [
        "acc = history.history['accuracy']\n",
        "val_acc = history.history['val_accuracy']\n",
        "\n",
        "loss = history.history['loss']\n",
        "val_loss = history.history['val_loss']\n",
        "\n",
        "plt.figure(figsize=(10, 10))\n",
        "plt.subplot(2, 1, 1)\n",
        "plt.plot(acc, label='Training Accuracy')\n",
        "plt.plot(val_acc, label='Validation Accuracy')\n",
        "plt.legend(loc='lower right')\n",
        "plt.ylabel('Accuracy')\n",
        "plt.ylim([min(plt.ylim()),1])\n",
        "plt.title('Training and Validation Accuracy')\n",
        "\n",
        "plt.subplot(2, 1, 2)\n",
        "plt.plot(loss, label='Training Loss')\n",
        "plt.plot(val_loss, label='Validation Loss')\n",
        "plt.legend(loc='upper right')\n",
        "plt.ylabel('Cross Entropy')\n",
        "plt.ylim([min(plt.ylim()),max(plt.ylim())])\n",
        "plt.title('Training and Validation Loss')\n",
        "plt.xlabel('epoch')\n",
        "plt.show()"
      ],
      "execution_count": 11,
      "outputs": [
        {
          "output_type": "display_data",
          "data": {
            "image/png": "[encoded data removed]",
            "text/plain": [
              "<Figure size 720x720 with 2 Axes>"
            ]
          },
          "metadata": {
            "needs_background": "light"
          }
        }
      ]
    }
  ]
}